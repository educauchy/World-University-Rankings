{
 "cells": [
  {
   "cell_type": "code",
   "execution_count": 2,
   "metadata": {},
   "outputs": [],
   "source": [
    "# coding=utf-8\n",
    "import requests\n",
    "from bs4 import BeautifulSoup as BS\n",
    "import pandas as pd"
   ]
  },
  {
   "cell_type": "code",
   "execution_count": 124,
   "metadata": {},
   "outputs": [
    {
     "name": "stdout",
     "output_type": "stream",
     "text": [
      "CPU times: user 2 µs, sys: 0 ns, total: 2 µs\n",
      "Wall time: 5.25 µs\n"
     ]
    }
   ],
   "source": [
    "%time\n",
    "# 2018\n",
    "columns = []\n",
    "uni_id_list = []\n",
    "uni = []\n",
    "data = pd.DataFrame(data = [[0, 1, 2, 3, 4]],\n",
    "                    columns = ['uni_id', 'index', 'desc', 'dim', 'measure'])\n",
    "\n",
    "for state in page.select('p.MsoListParagraph a[href]'): # through regions\n",
    "    region_url = host + str(year) + '/' + state['href']\n",
    "    state_page = BS((requests.get(region_url)).content)\n",
    "\n",
    "    for uni in state_page.select('.blockcontent tr td.inst a[href]'): # through unis\n",
    "        uni_id = int(uni['href'][12:])\n",
    "        uni.append(uni.get_text())\n",
    "        uni_id_list.append(uni_id)\n",
    "        uni_url = host + '_vpo/' + uni['href']\n",
    "        uni_page = BS((requests.get(uni_url)).content)\n",
    "            \n",
    "        for indicator in uni_page.select('table#analis_dop tr'): # through the last table\n",
    "            fields = []\n",
    "            td_num = len(indicator.find_all('td'))\n",
    "            \n",
    "            if td_num == 4: # skip headings and not full rows\n",
    "                for td in indicator.select('td'):\n",
    "                    fields.append(td.get_text())\n",
    "                    \n",
    "                row = pd.DataFrame(data = [[uni_id, fields[0], fields[1], fields[2], fields[3]]],\n",
    "                                    columns = ['uni_id', 'index', 'desc', 'dim', 'measure'])\n",
    "                data = data.append(row)\n",
    "\n",
    "data = data.iloc[3:, :]\n",
    "data.set_index('uni_id', inplace = True)\n",
    "data.to_excel('russian_uni.xlsx')"
   ]
  },
  {
   "cell_type": "code",
   "execution_count": 26,
   "metadata": {},
   "outputs": [],
   "source": [
    "url = 'http://www.shanghairanking.com/ARWU2019.html'\n",
    "r = requests.get(url)\n",
    "page = BS(r.text, 'html.parser')\n",
    "\n",
    "data = pd.DataFrame(data = [[0, 1, 2, 3, 4, 5, 6, 7]],\n",
    "                    columns = ['Rank', 'Uni', 'Alumni', 'Award', 'HiCi', 'N&S', 'PUB', 'PCP'])\n",
    "\n",
    "for i, uni in enumerate(page.select('table#UniversityRanking tr')):\n",
    "    if i == 0:\n",
    "        continue\n",
    "    else:\n",
    "        fields = []\n",
    "        for j, indicator in enumerate(uni.select('td')):\n",
    "            if j in [0, 1, 5, 6, 7, 8, 9, 10]:\n",
    "                if j == 1:\n",
    "                    ind = (indicator.select('a'))[0].text\n",
    "                else:\n",
    "                    ind = indicator.text\n",
    "                fields.append(ind)\n",
    "        row = pd.DataFrame(data = [[fields[0], fields[1], fields[2], fields[3], fields[4], fields[5], fields[6], fields[7]]],\n",
    "                                    columns = ['Rank', 'Uni', 'Alumni', 'Award', 'HiCi', 'N&S', 'PUB', 'PCP'])\n",
    "        data = data.append(row)\n",
    "\n",
    "data.set_index('Rank', inplace = True)\n",
    "data.to_excel('ARWU_Ranking_Full.xlsx')"
   ]
  },
  {
   "cell_type": "code",
   "execution_count": null,
   "metadata": {},
   "outputs": [],
   "source": []
  }
 ],
 "metadata": {
  "kernelspec": {
   "display_name": "Python 3",
   "language": "python",
   "name": "python3"
  },
  "language_info": {
   "codemirror_mode": {
    "name": "ipython",
    "version": 3
   },
   "file_extension": ".py",
   "mimetype": "text/x-python",
   "name": "python",
   "nbconvert_exporter": "python",
   "pygments_lexer": "ipython3",
   "version": "3.7.4"
  }
 },
 "nbformat": 4,
 "nbformat_minor": 2
}
