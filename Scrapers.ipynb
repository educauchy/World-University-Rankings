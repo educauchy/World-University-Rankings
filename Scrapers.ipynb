{
 "cells": [
  {
   "cell_type": "code",
   "execution_count": 122,
   "metadata": {},
   "outputs": [],
   "source": [
    "# coding=utf-8\n",
    "import requests\n",
    "import pandas as pd\n",
    "import numpy as np\n",
    "import seaborn as sn\n",
    "import geopandas, geoplot, random, re, scipy\n",
    "from bs4 import BeautifulSoup as BS\n",
    "from mpl_toolkits.axes_grid1 import make_axes_locatable\n",
    "import matplotlib.pyplot as plt\n",
    "from matplotlib.pyplot import figure, savefig"
   ]
  },
  {
   "cell_type": "markdown",
   "metadata": {},
   "source": [
    "# Predefined variables"
   ]
  },
  {
   "cell_type": "code",
   "execution_count": 123,
   "metadata": {},
   "outputs": [],
   "source": [
    "rankings = ['THE', 'QS', 'CWUR', 'ARWU']\n",
    "countries = {\n",
    "    'AG': 'Argentina', 'AU': 'Austria', 'AUS': 'Australia', 'BE': 'Belgium', 'BEL': 'Belarus', 'BZ': 'Brazil',\n",
    "    'CA': 'Canada', 'CH': 'China', 'CHI': 'Chile', 'COL': 'Colombia', 'CZ': 'Czech', 'DN': 'Denmark',\n",
    "    'EG': 'Egypt', 'ES': 'Estonia', 'FI': 'Finland', 'FR': 'France', 'GE': 'Germany', 'GR': 'Greece',\n",
    "    'IN': 'India', 'ID': 'Indonesia', 'IR': 'Ireland', 'IRN': 'Iran', 'IT': 'Italy', 'IS': 'Izrael',\n",
    "    'JP': 'Japan', 'KO': 'Korea', 'KZ': 'Kazakhstan', 'LE': 'Lebanon', 'MA': 'Malaysia', 'ME': 'Mexico',\n",
    "    'NE': 'Netherlands', 'NO': 'Norway', 'NZ': 'New Zealand', 'PH': 'Philippines', 'PAK': 'Pakistan',\n",
    "    'POL': 'Poland', 'POR': 'Portugal', 'RU': 'Russia', 'SA': 'South Africa', 'SAU': 'Saudi Arabia',\n",
    "    'SG': 'Singapore', 'SP': 'Spain', 'SW': 'Sweden', 'TH': 'Thailand', 'UA': 'Ukraine',\n",
    "    'UAE': 'United Arab Emirates', 'UK': 'United Kingdom', 'US': 'United States of America'\n",
    "}\n",
    "\n",
    "media_dir = 'Media/'\n",
    "EDA_dir = 'Media/EDA/'\n",
    "rankings_dir = 'Media/Rankings'\n",
    "\n",
    "inputs = list(map(str, list(range(1, 57))))\n",
    "inputs.remove('47')\n",
    "outputs = ['E.1', 'E.2', 'E.3', 'E.4', 'E.5', 'E.6', 'E.8']\n",
    "\n",
    "edu = list(map(str, list(range(1, 10))))\n",
    "science = list(map(str, list(range(10, 21))))\n",
    "staff = list(map(str, list(range(21, 30))))\n",
    "inter = list(map(str, list(range(30, 39))))\n",
    "infra = list(map(str, list(range(39, 47))))\n",
    "fin = list(map(str, list(range(48, 57))))"
   ]
  },
  {
   "cell_type": "markdown",
   "metadata": {},
   "source": [
    "# User defined functions"
   ]
  },
  {
   "cell_type": "code",
   "execution_count": 124,
   "metadata": {},
   "outputs": [],
   "source": [
    "def set_rank(rank_range):\n",
    "    \"\"\"\n",
    "    Set university rank if it is defined as range, but not a single value\n",
    "    \n",
    "    Parameters:\n",
    "    rank_range (str): Consists university rank. Two formats: \"a-b\" or \"c+\", where a, b, c are integers and a < b\n",
    "    \n",
    "    Return\n",
    "    int: University rank as an integer\n",
    "    \"\"\"\n",
    "    \n",
    "    range_min_max = re.search('(\\d+)?-?(\\d+)?\\+?', rank_range)\n",
    "\n",
    "    if range_min_max[2] is None:\n",
    "        return range_min_max[1]\n",
    "    else:\n",
    "        rank = random.randint( int(range_min_max[1]), int(range_min_max[2]) )\n",
    "        return rank"
   ]
  },
  {
   "cell_type": "code",
   "execution_count": 125,
   "metadata": {},
   "outputs": [],
   "source": [
    "def kendall_w(data):\n",
    "    \"\"\"\n",
    "    Calculate and return Kendall's coefficient of concordance\n",
    "    \n",
    "    Parameters\n",
    "    data (Pandas dataframe): Dataframe of data\n",
    "    \n",
    "    Return\n",
    "    int: W coefficient\n",
    "    \"\"\"\n",
    "    \n",
    "    m = 4\n",
    "    n = len(data)\n",
    "\n",
    "    Ri = data.sum(axis = 1)\n",
    "#     Rm = np.sum(Ri) / n\n",
    "    \n",
    "    T = 0\n",
    "    for ranking in data:\n",
    "        vc = data[ranking].value_counts()\n",
    "        d = vc[vc > 1]\n",
    "        t = np.sum(list(map(lambda t: t ** 3 - t, d)))\n",
    "        T = T + t\n",
    "    \n",
    "    W = (12 * np.sum(Ri) - 3 * m ** 2 * n * (n + 1) ** 2) / (m ** 2 * n * (n ** 2 - 1) - m * T)\n",
    "#     S = np.sum( (Ri - Rm) ** 2 )\n",
    "#     W = (12 * S) / ((m ** 2) * (n ** 3 - n) - 3 * (n + 1) / (n - 1))\n",
    "    \n",
    "    rS = (m * W - 1) / (m - 1)\n",
    "\n",
    "    return (T, W, rS)"
   ]
  },
  {
   "cell_type": "markdown",
   "metadata": {},
   "source": [
    "# Web scrapers"
   ]
  },
  {
   "cell_type": "markdown",
   "metadata": {},
   "source": [
    "### Parse all Russian universities"
   ]
  },
  {
   "cell_type": "code",
   "execution_count": 12,
   "metadata": {},
   "outputs": [],
   "source": [
    "url = 'http://indicators.miccedu.ru/monitoring/index.php?m=vpo'\n",
    "r = requests.get(url)\n",
    "r.encoding = r.apparent_encoding\n",
    "page = BS(r.text, 'html.parser')\n",
    "\n",
    "columns = []\n",
    "uni_id_list = []\n",
    "uni = []\n",
    "data = pd.DataFrame(data = [[0, 1, 2, 3, 4]],\n",
    "                    columns = ['uni_id', 'index', 'desc', 'dim', 'measure'])\n",
    "\n",
    "for state in page.select('p.MsoListParagraph a[href]'): # through regions\n",
    "    region_url = host + str(year) + '/' + state['href']\n",
    "    r = requests.get(region_url)\n",
    "    r.encoding = r.apparent_encoding\n",
    "    state_page = BS(r.content)\n",
    "    \n",
    "    for uni in state_page.select('.blockcontent tr td.inst a[href]'): # through unis\n",
    "        uni_id = int(uni['href'][12:])\n",
    "        uni.append(uni.get_text())\n",
    "        uni_id_list.append(uni_id)\n",
    "        uni_url = host + '_vpo/' + uni['href']\n",
    "        r = requests.get(uni_url)\n",
    "        r.encoding = r.apparent_encoding\n",
    "        uni_page = BS(r.content)\n",
    "                    \n",
    "        for indicator in uni_page.select('table#analis_dop tr'): # through the last table\n",
    "            fields = []\n",
    "            td_num = len(indicator.find_all('td'))\n",
    "            \n",
    "            if td_num == 4: # skip headings and not full rows\n",
    "                for td in indicator.select('td'):\n",
    "                    fields.append(td.get_text())\n",
    "                row = pd.DataFrame(data = [[uni_id, fields[0], fields[1], fields[2], fields[3]]],\n",
    "                                    columns = ['uni_id', 'index', 'desc', 'dim', 'measure'])\n",
    "                data = data.append(row)\n",
    "\n",
    "data = data.iloc[3:, :]\n",
    "data.set_index('uni_id', inplace = True)\n",
    "data.to_excel('russian_uni.xlsx', index = False)"
   ]
  },
  {
   "cell_type": "markdown",
   "metadata": {},
   "source": [
    "### Parse Desired Russian Universities"
   ]
  },
  {
   "cell_type": "code",
   "execution_count": 126,
   "metadata": {},
   "outputs": [],
   "source": [
    "url = 'http://indicators.miccedu.ru/monitoring/_vpo/inst.php?id='\n",
    "unis = pd.read_excel('Data/Russian_Universities_Initial.xlsx')\n",
    "\n",
    "for index, uni in unis.iterrows():\n",
    "    r = requests.get(url + str(uni.Uni_Id))\n",
    "    r.encoding = r.apparent_encoding\n",
    "    page = BS(r.text, 'html.parser')\n",
    "    \n",
    "    \n",
    "    for indicator in page.select('table#analis_dop tr'): # through the last table\n",
    "        fields = []\n",
    "        td_num = len(indicator.find_all('td'))\n",
    "            \n",
    "        if td_num == 4: # skip headings and not full rows\n",
    "            not_valid = False\n",
    "            for ix, td in enumerate(indicator.select('td')):\n",
    "                if re.search('№', td.get_text()) or (ix == 2 and re.search('да', td.get_text())):\n",
    "                    not_valid = True\n",
    "                    break\n",
    "                else:\n",
    "                    fields.append(td.get_text())\n",
    "            \n",
    "            if not_valid == False:\n",
    "                unis.loc[index, str(fields[0])] = float(fields[3].replace(' ', '').replace(',', '.'))\n",
    "\n",
    "    for table in page.select('table.napde'):        \n",
    "        row = []\n",
    "        for ix, indicator in enumerate(table.select('td')): # through the last table\n",
    "            if ix in [0, 1, 2, 3]:\n",
    "                continue\n",
    "            else:\n",
    "                res = divmod(ix, 4)\n",
    "                if res[1] in [0, 3]:\n",
    "                    row.append(indicator.get_text())\n",
    "                    \n",
    "                if res[1] == 3:\n",
    "                    unis.loc[index, str(row[0])] = float(row[1].replace(' ', '').replace(',', '.'))\n",
    "                    row = []\n",
    "\n",
    "    # working with outpus\n",
    "    # there is an additional empty tbody before thead of the result table, so we cannot use BS\n",
    "    # use regex instead\n",
    "    Es = re.findall('(E\\.\\d)</td>', str(page))\n",
    "    output_values = re.findall('right center no-repeat;\\\">(\\d+(?:,\\d+)?)<', str(page))\n",
    "    income = re.findall('<span style=\\\"\\\">(\\d+(?:,\\d+)?)<', str(page))\n",
    "    output_values.insert(4, income[0])\n",
    "    \n",
    "    for ix, val in enumerate(output_values):\n",
    "        unis.loc[index, Es[ix]] = float(val.replace(',', '.'))"
   ]
  },
  {
   "cell_type": "markdown",
   "metadata": {},
   "source": [
    "### Set university ranks"
   ]
  },
  {
   "cell_type": "code",
   "execution_count": 131,
   "metadata": {},
   "outputs": [],
   "source": [
    "for index, university in unis.iterrows():\n",
    "    for ranking in ['THE', 'QS', 'CWUR', 'ARWU']:\n",
    "        value = unis.loc[unis.University == university[0], ranking]\n",
    "        if not (isinstance(value[index], int) or value[index] is None or isinstance( value[index], float)):\n",
    "            unis.loc[unis.University == university[0], ranking] = set_rank(value[index])\n",
    "            \n",
    "unis.to_excel('Data/Russian_Universities.xlsx', index = False)"
   ]
  },
  {
   "cell_type": "markdown",
   "metadata": {},
   "source": [
    "### Set university ranks for rankings time series"
   ]
  },
  {
   "cell_type": "code",
   "execution_count": 140,
   "metadata": {},
   "outputs": [],
   "source": [
    "data = pd.read_excel('Data/Russian_Universities_TS_Initial.xlsx')\n",
    "data.loc[(data.Year == 2020) & (data.Ranking == 'THE'), 'Rank'] = unis.THE\n",
    "data.loc[(data.Year == 2020) & (data.Ranking == 'QS'), 'Rank'] = unis.QS\n",
    "data.loc[(data.Year == 2020) & (data.Ranking == 'ARWU'), 'Rank'] = unis.ARWU\n",
    "data.loc[(data.Year == 2020) & (data.Ranking == 'CWUR'), 'Rank'] = unis.CWUR\n",
    "\n",
    "for index, row in data.iterrows():\n",
    "    value = data.loc[data.University == row[0], 'Rank']\n",
    "    if not (isinstance(value[index], int) or value[index] is None or isinstance( value[index], float)):\n",
    "        data.loc[data.University == row[0], 'Rank'] = set_rank(value[index])\n",
    "\n",
    "data.to_excel('Data/Russian_Universities_TS.xlsx', index = False)"
   ]
  },
  {
   "cell_type": "markdown",
   "metadata": {},
   "source": [
    "### Parse Shanghai Ranking"
   ]
  },
  {
   "cell_type": "code",
   "execution_count": 138,
   "metadata": {},
   "outputs": [],
   "source": [
    "url = 'http://www.shanghairanking.com/ARWU2019.html'\n",
    "r = requests.get(url)\n",
    "page = BS(r.text, 'html.parser')\n",
    "\n",
    "data = pd.DataFrame(data = [[0, 1, 2, 3, 4, 5, 6, 7]],\n",
    "                    columns = ['Rank', 'Uni', 'Alumni', 'Award', 'HiCi', 'N&S', 'PUB', 'PCP'])\n",
    "\n",
    "for i, uni in enumerate(page.select('table#UniversityRanking tr')):\n",
    "    if i == 0:\n",
    "        continue\n",
    "    else:\n",
    "        fields = []\n",
    "        for j, indicator in enumerate(uni.select('td')):\n",
    "            if j in [0, 1, 5, 6, 7, 8, 9, 10]:\n",
    "                if j == 1:\n",
    "                    ind = (indicator.select('a'))[0].text\n",
    "                else:\n",
    "                    ind = indicator.text\n",
    "                fields.append(ind)\n",
    "        row = pd.DataFrame(data = [[fields[0], fields[1], fields[2], fields[3], fields[4], fields[5], fields[6], fields[7]]],\n",
    "                                    columns = ['Rank', 'Uni', 'Alumni', 'Award', 'HiCi', 'N&S', 'PUB', 'PCP'])\n",
    "        data = data.append(row)\n",
    "\n",
    "data.set_index('Rank', inplace = True)\n",
    "data.to_excel('Data/ARWU_Ranking_Full.xlsx')"
   ]
  },
  {
   "cell_type": "markdown",
   "metadata": {},
   "source": [
    "# Rankings"
   ]
  },
  {
   "cell_type": "code",
   "execution_count": null,
   "metadata": {},
   "outputs": [],
   "source": [
    "data = (pd.read_excel('Rankings/All-2020.xlsx')).iloc[:500, :29]\n",
    "uni = data.University\n",
    "data = data.set_index('University')\n",
    "data = data.dropna()\n",
    "\n",
    "data['Country'] = [countries[code] for code in data.loc[:, 'Country Code']]\n",
    "\n",
    "# Fill ranged ranks (101-150, 800-1000)\n",
    "for ranking in rankings:\n",
    "    for rank_i in range(len(data[ranking])):\n",
    "        rank = data[ranking][rank_i]\n",
    "        if isinstance(rank, str):\n",
    "            data.loc[:, ranking][rank_i] = set_rank(rank)"
   ]
  },
  {
   "cell_type": "code",
   "execution_count": null,
   "metadata": {},
   "outputs": [],
   "source": [
    "# Convert to ranks\n",
    "rdata = (data.reset_index())[rankings].rank(axis = 0, ascending = True)\n",
    "rdata['University'] = uni\n",
    "rdata = rdata.set_index('University')\n",
    "\n",
    "data.THE = rdata.THE\n",
    "data.QS = rdata.QS\n",
    "data.CWUR = rdata.CWUR\n",
    "data.ARWU = rdata.ARWU\n",
    "rdata.head()"
   ]
  },
  {
   "cell_type": "code",
   "execution_count": null,
   "metadata": {},
   "outputs": [],
   "source": [
    "print(kendall_w(rdata))"
   ]
  },
  {
   "cell_type": "code",
   "execution_count": null,
   "metadata": {},
   "outputs": [],
   "source": [
    "# vc = rdata.QS.value_counts()\n",
    "# sm = vc[vc > 1]\n",
    "# sm\n",
    "\n",
    "# lambda x: x ** 3 - x\n",
    "\n",
    "print(np.sum(list(map(lambda t: t ** 3 - t, [2, 3, 2, 3]))))"
   ]
  },
  {
   "cell_type": "code",
   "execution_count": null,
   "metadata": {},
   "outputs": [],
   "source": [
    "# All data\n",
    "corr_matrix = spearmanr(data.loc[:, rankings])[0]\n",
    "print(corr_matrix)\n",
    "sn.heatmap(corr_matrix, vmin = 0, vmax = 1, annot = True)\n",
    "plt.savefig(media_dir + 'spearman_corr.png')"
   ]
  },
  {
   "cell_type": "code",
   "execution_count": null,
   "metadata": {},
   "outputs": [],
   "source": [
    "# 1-100\n",
    "corr_matrix = spearmanr(data.loc[:, rankings][1:100])[0]\n",
    "print(corr_matrix)\n",
    "sn.heatmap(corr_matrix, vmin = 0, vmax = 1, annot = True)\n",
    "plt.savefig(media_dir + 'spearman_corr_1-100.png')"
   ]
  },
  {
   "cell_type": "code",
   "execution_count": null,
   "metadata": {},
   "outputs": [],
   "source": [
    "# 101-200\n",
    "corr_matrix = spearmanr(data.loc[:, rankings][101:200])[0]\n",
    "print(corr_matrix)\n",
    "sn.heatmap(corr_matrix, vmin = 0, vmax = 1, annot = True)\n",
    "plt.savefig(media_dir + 'spearman_corr_101-200.png')"
   ]
  },
  {
   "cell_type": "code",
   "execution_count": null,
   "metadata": {},
   "outputs": [],
   "source": [
    "data.to_csv(r'~/Google Drive/Университет/Магистратура/Research/Programs/Processed.csv')"
   ]
  },
  {
   "cell_type": "markdown",
   "metadata": {},
   "source": [
    "# Exploratory Data Analysis"
   ]
  },
  {
   "cell_type": "markdown",
   "metadata": {},
   "source": [
    "### Heatmaps"
   ]
  },
  {
   "cell_type": "code",
   "execution_count": 120,
   "metadata": {},
   "outputs": [
    {
     "ename": "NameError",
     "evalue": "name 'inputs' is not defined",
     "output_type": "error",
     "traceback": [
      "\u001b[0;31m---------------------------------------------------------------------------\u001b[0m",
      "\u001b[0;31mNameError\u001b[0m                                 Traceback (most recent call last)",
      "\u001b[0;32m<ipython-input-120-f9c088471109>\u001b[0m in \u001b[0;36m<module>\u001b[0;34m\u001b[0m\n\u001b[0;32m----> 1\u001b[0;31m \u001b[0mcorr\u001b[0m \u001b[0;34m=\u001b[0m \u001b[0mdata\u001b[0m\u001b[0;34m.\u001b[0m\u001b[0mloc\u001b[0m\u001b[0;34m[\u001b[0m\u001b[0;34m:\u001b[0m\u001b[0;34m,\u001b[0m \u001b[0minputs\u001b[0m\u001b[0;34m]\u001b[0m\u001b[0;34m.\u001b[0m\u001b[0mcorr\u001b[0m\u001b[0;34m(\u001b[0m\u001b[0;34m)\u001b[0m\u001b[0;34m\u001b[0m\u001b[0;34m\u001b[0m\u001b[0m\n\u001b[0m\u001b[1;32m      2\u001b[0m \u001b[0mfigure\u001b[0m\u001b[0;34m(\u001b[0m\u001b[0mfigsize\u001b[0m \u001b[0;34m=\u001b[0m \u001b[0;34m(\u001b[0m\u001b[0;36m25\u001b[0m\u001b[0;34m,\u001b[0m \u001b[0;36m25\u001b[0m\u001b[0;34m)\u001b[0m\u001b[0;34m)\u001b[0m\u001b[0;34m\u001b[0m\u001b[0;34m\u001b[0m\u001b[0m\n\u001b[1;32m      3\u001b[0m \u001b[0msns\u001b[0m\u001b[0;34m.\u001b[0m\u001b[0mheatmap\u001b[0m\u001b[0;34m(\u001b[0m\u001b[0mcorr\u001b[0m\u001b[0;34m,\u001b[0m \u001b[0mannot\u001b[0m \u001b[0;34m=\u001b[0m \u001b[0;32mTrue\u001b[0m\u001b[0;34m,\u001b[0m \u001b[0mvmin\u001b[0m \u001b[0;34m=\u001b[0m \u001b[0;34m-\u001b[0m\u001b[0;36m1\u001b[0m\u001b[0;34m,\u001b[0m \u001b[0mvmax\u001b[0m \u001b[0;34m=\u001b[0m \u001b[0;36m1\u001b[0m\u001b[0;34m,\u001b[0m \u001b[0mcmap\u001b[0m \u001b[0;34m=\u001b[0m \u001b[0;34m'coolwarm'\u001b[0m\u001b[0;34m,\u001b[0m \u001b[0mfmt\u001b[0m\u001b[0;34m=\u001b[0m\u001b[0;34m\".1f\"\u001b[0m\u001b[0;34m)\u001b[0m\u001b[0;34m\u001b[0m\u001b[0;34m\u001b[0m\u001b[0m\n\u001b[1;32m      4\u001b[0m \u001b[0mplt\u001b[0m\u001b[0;34m.\u001b[0m\u001b[0msavefig\u001b[0m\u001b[0;34m(\u001b[0m\u001b[0mmedia_dir\u001b[0m \u001b[0;34m+\u001b[0m \u001b[0;34m'heatmap_inputs.png'\u001b[0m\u001b[0;34m)\u001b[0m\u001b[0;34m\u001b[0m\u001b[0;34m\u001b[0m\u001b[0m\n",
      "\u001b[0;31mNameError\u001b[0m: name 'inputs' is not defined"
     ]
    }
   ],
   "source": [
    "corr = data.loc[:, inputs].corr()\n",
    "figure(figsize = (25, 25))\n",
    "sns.heatmap(corr, annot = True, vmin = -1, vmax = 1, cmap = 'coolwarm', fmt=\".1f\")\n",
    "plt.savefig(media_dir + 'heatmap_inputs.png')"
   ]
  },
  {
   "cell_type": "code",
   "execution_count": null,
   "metadata": {},
   "outputs": [],
   "source": [
    "corr = data.loc[:, outputs].corr()\n",
    "figure(figsize = (25, 25))\n",
    "sns.heatmap(corr, annot = True, vmin = -1, vmax = 1, cmap = 'coolwarm', fmt=\".1f\")\n",
    "plt.savefig(media_dir + 'heatmap_outputs.png')"
   ]
  },
  {
   "cell_type": "markdown",
   "metadata": {},
   "source": [
    "### Distribution plots"
   ]
  },
  {
   "cell_type": "code",
   "execution_count": null,
   "metadata": {},
   "outputs": [],
   "source": [
    "for input in inputs:\n",
    "    figure(figsize = (20, 10))\n",
    "    plt.plot(data.University, data[input])\n",
    "    plt.title(input)\n",
    "    plt.xticks(rotation=90)\n",
    "    plt.savefig(media_dir + '/Distributions/' + input + '.png')\n",
    "    plt.close()"
   ]
  },
  {
   "cell_type": "code",
   "execution_count": null,
   "metadata": {},
   "outputs": [],
   "source": [
    "for output in outputs:\n",
    "        figure(figsize = (20, 10))\n",
    "        plt.plot(data.University, data[output])\n",
    "        plt.title(output)\n",
    "        plt.xticks(rotation=90)\n",
    "        plt.savefig(media_dir + '/Distributions/' + output + '.png')\n",
    "        plt.close()"
   ]
  },
  {
   "cell_type": "markdown",
   "metadata": {},
   "source": [
    "### Boxplots"
   ]
  },
  {
   "cell_type": "code",
   "execution_count": null,
   "metadata": {},
   "outputs": [],
   "source": [
    "for input in inputs:\n",
    "    figure(figsize = (20, 10))\n",
    "    sns.boxplot(data[input])\n",
    "    plt.title(input)\n",
    "    plt.xticks(rotation=90)\n",
    "    plt.savefig(media_dir + '/BoxPlots/' + input + '.png')\n",
    "    plt.close()"
   ]
  },
  {
   "cell_type": "code",
   "execution_count": null,
   "metadata": {},
   "outputs": [],
   "source": [
    "for output in outputs:\n",
    "    figure(figsize = (20, 10))\n",
    "    sns.boxplot(data[output])\n",
    "    plt.title(output)\n",
    "    plt.xticks(rotation=90)\n",
    "    plt.savefig(media_dir + '/BoxPlots/' + output + '.png')\n",
    "    plt.close()"
   ]
  },
  {
   "cell_type": "markdown",
   "metadata": {},
   "source": [
    "### Pairplots"
   ]
  },
  {
   "cell_type": "code",
   "execution_count": null,
   "metadata": {},
   "outputs": [],
   "source": [
    "sns.pairplot(data.loc[:, inputs])"
   ]
  },
  {
   "cell_type": "markdown",
   "metadata": {},
   "source": [
    "### Description"
   ]
  },
  {
   "cell_type": "code",
   "execution_count": 121,
   "metadata": {},
   "outputs": [
    {
     "ename": "KeyError",
     "evalue": "'Region'",
     "output_type": "error",
     "traceback": [
      "\u001b[0;31m---------------------------------------------------------------------------\u001b[0m",
      "\u001b[0;31mKeyError\u001b[0m                                  Traceback (most recent call last)",
      "\u001b[0;32m<ipython-input-121-4397bd9ac791>\u001b[0m in \u001b[0;36m<module>\u001b[0;34m\u001b[0m\n\u001b[0;32m----> 1\u001b[0;31m \u001b[0mdata\u001b[0m\u001b[0;34m.\u001b[0m\u001b[0mgroupby\u001b[0m\u001b[0;34m(\u001b[0m\u001b[0;34m'Region'\u001b[0m\u001b[0;34m)\u001b[0m\u001b[0;34m.\u001b[0m\u001b[0mcount\u001b[0m\u001b[0;34m(\u001b[0m\u001b[0;34m)\u001b[0m\u001b[0;34m.\u001b[0m\u001b[0mUniversity\u001b[0m\u001b[0;34m\u001b[0m\u001b[0;34m\u001b[0m\u001b[0m\n\u001b[0m",
      "\u001b[0;32m/opt/anaconda3/lib/python3.7/site-packages/pandas/core/generic.py\u001b[0m in \u001b[0;36mgroupby\u001b[0;34m(self, by, axis, level, as_index, sort, group_keys, squeeze, observed, **kwargs)\u001b[0m\n\u001b[1;32m   7892\u001b[0m             \u001b[0msqueeze\u001b[0m\u001b[0;34m=\u001b[0m\u001b[0msqueeze\u001b[0m\u001b[0;34m,\u001b[0m\u001b[0;34m\u001b[0m\u001b[0;34m\u001b[0m\u001b[0m\n\u001b[1;32m   7893\u001b[0m             \u001b[0mobserved\u001b[0m\u001b[0;34m=\u001b[0m\u001b[0mobserved\u001b[0m\u001b[0;34m,\u001b[0m\u001b[0;34m\u001b[0m\u001b[0;34m\u001b[0m\u001b[0m\n\u001b[0;32m-> 7894\u001b[0;31m             \u001b[0;34m**\u001b[0m\u001b[0mkwargs\u001b[0m\u001b[0;34m\u001b[0m\u001b[0;34m\u001b[0m\u001b[0m\n\u001b[0m\u001b[1;32m   7895\u001b[0m         )\n\u001b[1;32m   7896\u001b[0m \u001b[0;34m\u001b[0m\u001b[0m\n",
      "\u001b[0;32m/opt/anaconda3/lib/python3.7/site-packages/pandas/core/groupby/groupby.py\u001b[0m in \u001b[0;36mgroupby\u001b[0;34m(obj, by, **kwds)\u001b[0m\n\u001b[1;32m   2520\u001b[0m         \u001b[0;32mraise\u001b[0m \u001b[0mTypeError\u001b[0m\u001b[0;34m(\u001b[0m\u001b[0;34m\"invalid type: {}\"\u001b[0m\u001b[0;34m.\u001b[0m\u001b[0mformat\u001b[0m\u001b[0;34m(\u001b[0m\u001b[0mobj\u001b[0m\u001b[0;34m)\u001b[0m\u001b[0;34m)\u001b[0m\u001b[0;34m\u001b[0m\u001b[0;34m\u001b[0m\u001b[0m\n\u001b[1;32m   2521\u001b[0m \u001b[0;34m\u001b[0m\u001b[0m\n\u001b[0;32m-> 2522\u001b[0;31m     \u001b[0;32mreturn\u001b[0m \u001b[0mklass\u001b[0m\u001b[0;34m(\u001b[0m\u001b[0mobj\u001b[0m\u001b[0;34m,\u001b[0m \u001b[0mby\u001b[0m\u001b[0;34m,\u001b[0m \u001b[0;34m**\u001b[0m\u001b[0mkwds\u001b[0m\u001b[0;34m)\u001b[0m\u001b[0;34m\u001b[0m\u001b[0;34m\u001b[0m\u001b[0m\n\u001b[0m",
      "\u001b[0;32m/opt/anaconda3/lib/python3.7/site-packages/pandas/core/groupby/groupby.py\u001b[0m in \u001b[0;36m__init__\u001b[0;34m(self, obj, keys, axis, level, grouper, exclusions, selection, as_index, sort, group_keys, squeeze, observed, **kwargs)\u001b[0m\n\u001b[1;32m    389\u001b[0m                 \u001b[0msort\u001b[0m\u001b[0;34m=\u001b[0m\u001b[0msort\u001b[0m\u001b[0;34m,\u001b[0m\u001b[0;34m\u001b[0m\u001b[0;34m\u001b[0m\u001b[0m\n\u001b[1;32m    390\u001b[0m                 \u001b[0mobserved\u001b[0m\u001b[0;34m=\u001b[0m\u001b[0mobserved\u001b[0m\u001b[0;34m,\u001b[0m\u001b[0;34m\u001b[0m\u001b[0;34m\u001b[0m\u001b[0m\n\u001b[0;32m--> 391\u001b[0;31m                 \u001b[0mmutated\u001b[0m\u001b[0;34m=\u001b[0m\u001b[0mself\u001b[0m\u001b[0;34m.\u001b[0m\u001b[0mmutated\u001b[0m\u001b[0;34m,\u001b[0m\u001b[0;34m\u001b[0m\u001b[0;34m\u001b[0m\u001b[0m\n\u001b[0m\u001b[1;32m    392\u001b[0m             )\n\u001b[1;32m    393\u001b[0m \u001b[0;34m\u001b[0m\u001b[0m\n",
      "\u001b[0;32m/opt/anaconda3/lib/python3.7/site-packages/pandas/core/groupby/grouper.py\u001b[0m in \u001b[0;36m_get_grouper\u001b[0;34m(obj, key, axis, level, sort, observed, mutated, validate)\u001b[0m\n\u001b[1;32m    619\u001b[0m                 \u001b[0min_axis\u001b[0m\u001b[0;34m,\u001b[0m \u001b[0mname\u001b[0m\u001b[0;34m,\u001b[0m \u001b[0mlevel\u001b[0m\u001b[0;34m,\u001b[0m \u001b[0mgpr\u001b[0m \u001b[0;34m=\u001b[0m \u001b[0;32mFalse\u001b[0m\u001b[0;34m,\u001b[0m \u001b[0;32mNone\u001b[0m\u001b[0;34m,\u001b[0m \u001b[0mgpr\u001b[0m\u001b[0;34m,\u001b[0m \u001b[0;32mNone\u001b[0m\u001b[0;34m\u001b[0m\u001b[0;34m\u001b[0m\u001b[0m\n\u001b[1;32m    620\u001b[0m             \u001b[0;32melse\u001b[0m\u001b[0;34m:\u001b[0m\u001b[0;34m\u001b[0m\u001b[0;34m\u001b[0m\u001b[0m\n\u001b[0;32m--> 621\u001b[0;31m                 \u001b[0;32mraise\u001b[0m \u001b[0mKeyError\u001b[0m\u001b[0;34m(\u001b[0m\u001b[0mgpr\u001b[0m\u001b[0;34m)\u001b[0m\u001b[0;34m\u001b[0m\u001b[0;34m\u001b[0m\u001b[0m\n\u001b[0m\u001b[1;32m    622\u001b[0m         \u001b[0;32melif\u001b[0m \u001b[0misinstance\u001b[0m\u001b[0;34m(\u001b[0m\u001b[0mgpr\u001b[0m\u001b[0;34m,\u001b[0m \u001b[0mGrouper\u001b[0m\u001b[0;34m)\u001b[0m \u001b[0;32mand\u001b[0m \u001b[0mgpr\u001b[0m\u001b[0;34m.\u001b[0m\u001b[0mkey\u001b[0m \u001b[0;32mis\u001b[0m \u001b[0;32mnot\u001b[0m \u001b[0;32mNone\u001b[0m\u001b[0;34m:\u001b[0m\u001b[0;34m\u001b[0m\u001b[0;34m\u001b[0m\u001b[0m\n\u001b[1;32m    623\u001b[0m             \u001b[0;31m# Add key to exclusions\u001b[0m\u001b[0;34m\u001b[0m\u001b[0;34m\u001b[0m\u001b[0;34m\u001b[0m\u001b[0m\n",
      "\u001b[0;31mKeyError\u001b[0m: 'Region'"
     ]
    }
   ],
   "source": [
    "data.groupby('Region').count().University\n",
    "data.info()\n",
    "data.describe()"
   ]
  },
  {
   "cell_type": "markdown",
   "metadata": {},
   "source": [
    "### World universities on map"
   ]
  },
  {
   "cell_type": "code",
   "execution_count": null,
   "metadata": {},
   "outputs": [],
   "source": [
    "world = geopandas.read_file(\n",
    "    geopandas.datasets.get_path('naturalearth_lowres')\n",
    ")\n",
    "boroughs = geopandas.read_file(\n",
    "    geoplot.datasets.get_path('nyc_boroughs')\n",
    ")\n",
    "collisions = geopandas.read_file(\n",
    "    geoplot.datasets.get_path('nyc_injurious_collisions')\n",
    ")"
   ]
  },
  {
   "cell_type": "code",
   "execution_count": null,
   "metadata": {},
   "outputs": [],
   "source": [
    "world['unis_num'] = [0] * len(world)\n",
    "world.head()"
   ]
  },
  {
   "cell_type": "code",
   "execution_count": null,
   "metadata": {},
   "outputs": [],
   "source": [
    "geoplot.polyplot(world, figsize=(16, 12))"
   ]
  },
  {
   "cell_type": "code",
   "execution_count": null,
   "metadata": {},
   "outputs": [],
   "source": [
    "world = world[(world.pop_est > 0) & (world.name != 'Antarctica')]\n",
    "\n",
    "for country in world.name:\n",
    "    if len(data.loc[data.Country == country, :]) > 0:\n",
    "        world.loc[world.name == country, 'unis_num'] = uni_per_country[country]\n",
    "\n",
    "world['gdp_per_cap'] = world.gdp_md_est / world.pop_est\n",
    "world.plot(column='gdp_per_cap', figsize=(16, 12));"
   ]
  },
  {
   "cell_type": "code",
   "execution_count": null,
   "metadata": {},
   "outputs": [],
   "source": [
    "fig, ax = plt.subplots(1, 1)\n",
    "fig.set_figheight(14)\n",
    "fig.set_figwidth(16)\n",
    "fig.tight_layout()\n",
    "divider = make_axes_locatable(ax)\n",
    "cax = divider.append_axes(\"right\", size=\"5%\", pad=0.1)\n",
    "world.plot(column='unis_num', legend = True, ax = ax, figsize=(16, 14), cmap = 'Reds', cax = cax);\n",
    "plt.savefig('world.png')"
   ]
  },
  {
   "cell_type": "code",
   "execution_count": 146,
   "metadata": {},
   "outputs": [
    {
     "ename": "ConversionError",
     "evalue": "Failed to convert value(s) to axis units: array([           Ranking    Rank  Year\nUniversity                      \nMSU             QS   108.0  2017\nSSAU            QS  1001.0  2017\nMSTU            QS   306.0  2017\nHSE             QS   415.0  2017\nMEPHI           QS   402.0  2017\nMGIMO           QS   350.0  2017\nRUDN            QS   528.0  2017\nMISIS           QS   530.0  2017\nREU             QS   954.0  2017\nSPBU            QS   258.0  2017\nITMO            QS   517.0  2017\nSPPU            QS   402.0  2017\nVSU             QS  1001.0  2017\nTSU             QS   377.0  2017\nTSPU            QS   400.0  2017\nNSU             QS   291.0  2017\nNSTU            QS  1001.0  2017\nSASU            QS  1001.0  2017\nKFU             QS   446.0  2017\nLOBU            QS  1001.0  2017\nURFU            QS  1001.0  2017\nDVFU            QS  1001.0  2017\nSUSU            QS  1001.0  2017\nSSU             QS  1001.0  2017\nBASHSU          QS  1001.0  2017\nBELGU           QS  1001.0  2017\nGUBKIN          QS  1001.0  2017\nMIREA           QS  1001.0  2017\nMAI             QS  1001.0  2017\nMPEI            QS  1001.0  2017\nPPU             QS  1001.0  2017\nPSU             QS  1001.0  2017\nPMU             QS  1001.0  2017\nSECH            QS  1001.0  2017\nSFU             QS  1001.0  2017\nLETI            QS  1001.0  2017\nUGATU           QS  1001.0  2017\nVOLGTU          QS  1001.0  2017\nSKOLKOVO        QS  1001.0  2017,\n                  Ranking    Rank  Year\nUniversity                      \nMSU             QS    95.0  2018\nMIPT            QS   355.0  2018\nSSAU            QS  1001.0  2018\nMSTU            QS   291.0  2018\nHSE             QS   415.0  2018\nMEPHI           QS   402.0  2018\nMGIMO           QS   373.0  2018\nRUDN            QS   528.0  2018\nMISIS           QS   530.0  2018\nREU             QS   954.0  2018\nSPBU            QS   240.0  2018\nITMO            QS   517.0  2018\nSPPU            QS   402.0  2018\nVSU             QS  1001.0  2018\nTSU             QS   323.0  2018\nTSPU            QS   386.0  2018\nNSU             QS   250.0  2018\nNSTU            QS  1001.0  2018\nSASU            QS  1001.0  2018\nKFU             QS   446.0  2018\nLOBU            QS  1001.0  2018\nURFU            QS  1001.0  2018\nDVFU            QS  1001.0  2018\nSUSU            QS  1001.0  2018\nSSU             QS  1001.0  2018\nBASHSU          QS  1001.0  2018\nBELGU           QS  1001.0  2018\nGUBKIN          QS  1001.0  2018\nMIREA           QS  1001.0  2018\nMAI             QS  1001.0  2018\nMPEI            QS  1001.0  2018\nPPU             QS  1001.0  2018\nPSU             QS  1001.0  2018\nPMU             QS  1001.0  2018\nSECH            QS  1001.0  2018\nSFU             QS  1001.0  2018\nLETI            QS  1001.0  2018\nUGATU           QS  1001.0  2018\nVOLGTU          QS  1001.0  2018\nSKOLKOVO        QS  1001.0  2018,\n                  Ranking    Rank  Year\nUniversity                      \nMSU             QS    90.0  2019\nMIPT            QS   312.0  2019\nSSAU            QS  1001.0  2019\nMSTU            QS   299.0  2019\nHSE             QS   415.0  2019\nMEPHI           QS   402.0  2019\nMGIMO           QS   355.0  2019\nRUDN            QS   528.0  2019\nMISIS           QS   530.0  2019\nREU             QS   954.0  2019\nSPBU            QS   235.0  2019\nITMO            QS   517.0  2019\nSPPU            QS   402.0  2019\nVSU             QS  1001.0  2019\nTSU             QS   277.0  2019\nTSPU            QS   373.0  2019\nNSU             QS   244.0  2019\nNSTU            QS  1001.0  2019\nSASU            QS  1001.0  2019\nKFU             QS   446.0  2019\nLOBU            QS  1001.0  2019\nURFU            QS  1001.0  2019\nDVFU            QS  1001.0  2019\nSUSU            QS  1001.0  2019\nSSU             QS  1001.0  2019\nBASHSU          QS  1001.0  2019\nBELGU           QS  1001.0  2019\nGUBKIN          QS  1001.0  2019\nMIREA           QS  1001.0  2019\nMAI             QS  1001.0  2019\nMPEI            QS  1001.0  2019\nPPU             QS  1001.0  2019\nPSU             QS  1001.0  2019\nPMU             QS  1001.0  2019\nSECH            QS  1001.0  2019\nSFU             QS  1001.0  2019\nLETI            QS  1001.0  2019\nUGATU           QS  1001.0  2019\nVOLGTU          QS  1001.0  2019\nSKOLKOVO        QS  1001.0  2019,\n                  Ranking    Rank  Year\nUniversity                      \nMSU            THE   189.0  2020\nMIPT           THE   242.0  2020\nSSAU           THE  1001.0  2020\nMSTU           THE   983.0  2020\nHSE            THE   415.0  2020\n...            ...     ...   ...\nSFU           ARWU  1001.0  2020\nLETI          ARWU  1001.0  2020\nUGATU         ARWU  1001.0  2020\nVOLGTU        ARWU  1001.0  2020\nSKOLKOVO      ARWU  1001.0  2020\n\n[136 rows x 3 columns]], dtype=object)",
     "output_type": "error",
     "traceback": [
      "\u001b[0;31m---------------------------------------------------------------------------\u001b[0m",
      "\u001b[0;31mValueError\u001b[0m                                Traceback (most recent call last)",
      "\u001b[0;32m/opt/anaconda3/lib/python3.7/site-packages/matplotlib/axis.py\u001b[0m in \u001b[0;36mconvert_units\u001b[0;34m(self, x)\u001b[0m\n\u001b[1;32m   1549\u001b[0m         \u001b[0;32mtry\u001b[0m\u001b[0;34m:\u001b[0m\u001b[0;34m\u001b[0m\u001b[0;34m\u001b[0m\u001b[0m\n\u001b[0;32m-> 1550\u001b[0;31m             \u001b[0mret\u001b[0m \u001b[0;34m=\u001b[0m \u001b[0mself\u001b[0m\u001b[0;34m.\u001b[0m\u001b[0mconverter\u001b[0m\u001b[0;34m.\u001b[0m\u001b[0mconvert\u001b[0m\u001b[0;34m(\u001b[0m\u001b[0mx\u001b[0m\u001b[0;34m,\u001b[0m \u001b[0mself\u001b[0m\u001b[0;34m.\u001b[0m\u001b[0munits\u001b[0m\u001b[0;34m,\u001b[0m \u001b[0mself\u001b[0m\u001b[0;34m)\u001b[0m\u001b[0;34m\u001b[0m\u001b[0;34m\u001b[0m\u001b[0m\n\u001b[0m\u001b[1;32m   1551\u001b[0m         \u001b[0;32mexcept\u001b[0m \u001b[0mException\u001b[0m \u001b[0;32mas\u001b[0m \u001b[0me\u001b[0m\u001b[0;34m:\u001b[0m\u001b[0;34m\u001b[0m\u001b[0;34m\u001b[0m\u001b[0m\n",
      "\u001b[0;32m/opt/anaconda3/lib/python3.7/site-packages/matplotlib/category.py\u001b[0m in \u001b[0;36mconvert\u001b[0;34m(value, unit, axis)\u001b[0m\n\u001b[1;32m     51\u001b[0m             raise ValueError(\n\u001b[0;32m---> 52\u001b[0;31m                 \u001b[0;34m'Missing category information for StrCategoryConverter; '\u001b[0m\u001b[0;34m\u001b[0m\u001b[0;34m\u001b[0m\u001b[0m\n\u001b[0m\u001b[1;32m     53\u001b[0m                 \u001b[0;34m'this might be caused by unintendedly mixing categorical and '\u001b[0m\u001b[0;34m\u001b[0m\u001b[0;34m\u001b[0m\u001b[0m\n",
      "\u001b[0;31mValueError\u001b[0m: Missing category information for StrCategoryConverter; this might be caused by unintendedly mixing categorical and numeric data",
      "\nThe above exception was the direct cause of the following exception:\n",
      "\u001b[0;31mConversionError\u001b[0m                           Traceback (most recent call last)",
      "\u001b[0;32m<ipython-input-146-9efaee3c410d>\u001b[0m in \u001b[0;36m<module>\u001b[0;34m\u001b[0m\n\u001b[1;32m      6\u001b[0m \u001b[0;31m# data_ts.plot()\u001b[0m\u001b[0;34m\u001b[0m\u001b[0;34m\u001b[0m\u001b[0;34m\u001b[0m\u001b[0m\n\u001b[1;32m      7\u001b[0m \u001b[0;31m# plt.show()\u001b[0m\u001b[0;34m\u001b[0m\u001b[0;34m\u001b[0m\u001b[0;34m\u001b[0m\u001b[0m\n\u001b[0;32m----> 8\u001b[0;31m \u001b[0mplt\u001b[0m\u001b[0;34m.\u001b[0m\u001b[0mplot\u001b[0m\u001b[0;34m(\u001b[0m\u001b[0mdata_ts\u001b[0m\u001b[0;34m.\u001b[0m\u001b[0mgroupby\u001b[0m\u001b[0;34m(\u001b[0m\u001b[0;34m'Year'\u001b[0m\u001b[0;34m)\u001b[0m\u001b[0;34m)\u001b[0m\u001b[0;34m\u001b[0m\u001b[0;34m\u001b[0m\u001b[0m\n\u001b[0m",
      "\u001b[0;32m/opt/anaconda3/lib/python3.7/site-packages/matplotlib/pyplot.py\u001b[0m in \u001b[0;36mplot\u001b[0;34m(scalex, scaley, data, *args, **kwargs)\u001b[0m\n\u001b[1;32m   2793\u001b[0m     return gca().plot(\n\u001b[1;32m   2794\u001b[0m         *args, scalex=scalex, scaley=scaley, **({\"data\": data} if data\n\u001b[0;32m-> 2795\u001b[0;31m         is not None else {}), **kwargs)\n\u001b[0m\u001b[1;32m   2796\u001b[0m \u001b[0;34m\u001b[0m\u001b[0m\n\u001b[1;32m   2797\u001b[0m \u001b[0;34m\u001b[0m\u001b[0m\n",
      "\u001b[0;32m/opt/anaconda3/lib/python3.7/site-packages/matplotlib/axes/_axes.py\u001b[0m in \u001b[0;36mplot\u001b[0;34m(self, scalex, scaley, data, *args, **kwargs)\u001b[0m\n\u001b[1;32m   1666\u001b[0m         \u001b[0mlines\u001b[0m \u001b[0;34m=\u001b[0m \u001b[0;34m[\u001b[0m\u001b[0;34m*\u001b[0m\u001b[0mself\u001b[0m\u001b[0;34m.\u001b[0m\u001b[0m_get_lines\u001b[0m\u001b[0;34m(\u001b[0m\u001b[0;34m*\u001b[0m\u001b[0margs\u001b[0m\u001b[0;34m,\u001b[0m \u001b[0mdata\u001b[0m\u001b[0;34m=\u001b[0m\u001b[0mdata\u001b[0m\u001b[0;34m,\u001b[0m \u001b[0;34m**\u001b[0m\u001b[0mkwargs\u001b[0m\u001b[0;34m)\u001b[0m\u001b[0;34m]\u001b[0m\u001b[0;34m\u001b[0m\u001b[0;34m\u001b[0m\u001b[0m\n\u001b[1;32m   1667\u001b[0m         \u001b[0;32mfor\u001b[0m \u001b[0mline\u001b[0m \u001b[0;32min\u001b[0m \u001b[0mlines\u001b[0m\u001b[0;34m:\u001b[0m\u001b[0;34m\u001b[0m\u001b[0;34m\u001b[0m\u001b[0m\n\u001b[0;32m-> 1668\u001b[0;31m             \u001b[0mself\u001b[0m\u001b[0;34m.\u001b[0m\u001b[0madd_line\u001b[0m\u001b[0;34m(\u001b[0m\u001b[0mline\u001b[0m\u001b[0;34m)\u001b[0m\u001b[0;34m\u001b[0m\u001b[0;34m\u001b[0m\u001b[0m\n\u001b[0m\u001b[1;32m   1669\u001b[0m         \u001b[0mself\u001b[0m\u001b[0;34m.\u001b[0m\u001b[0mautoscale_view\u001b[0m\u001b[0;34m(\u001b[0m\u001b[0mscalex\u001b[0m\u001b[0;34m=\u001b[0m\u001b[0mscalex\u001b[0m\u001b[0;34m,\u001b[0m \u001b[0mscaley\u001b[0m\u001b[0;34m=\u001b[0m\u001b[0mscaley\u001b[0m\u001b[0;34m)\u001b[0m\u001b[0;34m\u001b[0m\u001b[0;34m\u001b[0m\u001b[0m\n\u001b[1;32m   1670\u001b[0m         \u001b[0;32mreturn\u001b[0m \u001b[0mlines\u001b[0m\u001b[0;34m\u001b[0m\u001b[0;34m\u001b[0m\u001b[0m\n",
      "\u001b[0;32m/opt/anaconda3/lib/python3.7/site-packages/matplotlib/axes/_base.py\u001b[0m in \u001b[0;36madd_line\u001b[0;34m(self, line)\u001b[0m\n\u001b[1;32m   1900\u001b[0m             \u001b[0mline\u001b[0m\u001b[0;34m.\u001b[0m\u001b[0mset_clip_path\u001b[0m\u001b[0;34m(\u001b[0m\u001b[0mself\u001b[0m\u001b[0;34m.\u001b[0m\u001b[0mpatch\u001b[0m\u001b[0;34m)\u001b[0m\u001b[0;34m\u001b[0m\u001b[0;34m\u001b[0m\u001b[0m\n\u001b[1;32m   1901\u001b[0m \u001b[0;34m\u001b[0m\u001b[0m\n\u001b[0;32m-> 1902\u001b[0;31m         \u001b[0mself\u001b[0m\u001b[0;34m.\u001b[0m\u001b[0m_update_line_limits\u001b[0m\u001b[0;34m(\u001b[0m\u001b[0mline\u001b[0m\u001b[0;34m)\u001b[0m\u001b[0;34m\u001b[0m\u001b[0;34m\u001b[0m\u001b[0m\n\u001b[0m\u001b[1;32m   1903\u001b[0m         \u001b[0;32mif\u001b[0m \u001b[0;32mnot\u001b[0m \u001b[0mline\u001b[0m\u001b[0;34m.\u001b[0m\u001b[0mget_label\u001b[0m\u001b[0;34m(\u001b[0m\u001b[0;34m)\u001b[0m\u001b[0;34m:\u001b[0m\u001b[0;34m\u001b[0m\u001b[0;34m\u001b[0m\u001b[0m\n\u001b[1;32m   1904\u001b[0m             \u001b[0mline\u001b[0m\u001b[0;34m.\u001b[0m\u001b[0mset_label\u001b[0m\u001b[0;34m(\u001b[0m\u001b[0;34m'_line%d'\u001b[0m \u001b[0;34m%\u001b[0m \u001b[0mlen\u001b[0m\u001b[0;34m(\u001b[0m\u001b[0mself\u001b[0m\u001b[0;34m.\u001b[0m\u001b[0mlines\u001b[0m\u001b[0;34m)\u001b[0m\u001b[0;34m)\u001b[0m\u001b[0;34m\u001b[0m\u001b[0;34m\u001b[0m\u001b[0m\n",
      "\u001b[0;32m/opt/anaconda3/lib/python3.7/site-packages/matplotlib/axes/_base.py\u001b[0m in \u001b[0;36m_update_line_limits\u001b[0;34m(self, line)\u001b[0m\n\u001b[1;32m   1922\u001b[0m         \u001b[0mFigures\u001b[0m \u001b[0mout\u001b[0m \u001b[0mthe\u001b[0m \u001b[0mdata\u001b[0m \u001b[0mlimit\u001b[0m \u001b[0mof\u001b[0m \u001b[0mthe\u001b[0m \u001b[0mgiven\u001b[0m \u001b[0mline\u001b[0m\u001b[0;34m,\u001b[0m \u001b[0mupdating\u001b[0m \u001b[0mself\u001b[0m\u001b[0;34m.\u001b[0m\u001b[0mdataLim\u001b[0m\u001b[0;34m.\u001b[0m\u001b[0;34m\u001b[0m\u001b[0;34m\u001b[0m\u001b[0m\n\u001b[1;32m   1923\u001b[0m         \"\"\"\n\u001b[0;32m-> 1924\u001b[0;31m         \u001b[0mpath\u001b[0m \u001b[0;34m=\u001b[0m \u001b[0mline\u001b[0m\u001b[0;34m.\u001b[0m\u001b[0mget_path\u001b[0m\u001b[0;34m(\u001b[0m\u001b[0;34m)\u001b[0m\u001b[0;34m\u001b[0m\u001b[0;34m\u001b[0m\u001b[0m\n\u001b[0m\u001b[1;32m   1925\u001b[0m         \u001b[0;32mif\u001b[0m \u001b[0mpath\u001b[0m\u001b[0;34m.\u001b[0m\u001b[0mvertices\u001b[0m\u001b[0;34m.\u001b[0m\u001b[0msize\u001b[0m \u001b[0;34m==\u001b[0m \u001b[0;36m0\u001b[0m\u001b[0;34m:\u001b[0m\u001b[0;34m\u001b[0m\u001b[0;34m\u001b[0m\u001b[0m\n\u001b[1;32m   1926\u001b[0m             \u001b[0;32mreturn\u001b[0m\u001b[0;34m\u001b[0m\u001b[0;34m\u001b[0m\u001b[0m\n",
      "\u001b[0;32m/opt/anaconda3/lib/python3.7/site-packages/matplotlib/lines.py\u001b[0m in \u001b[0;36mget_path\u001b[0;34m(self)\u001b[0m\n\u001b[1;32m   1025\u001b[0m         \"\"\"\n\u001b[1;32m   1026\u001b[0m         \u001b[0;32mif\u001b[0m \u001b[0mself\u001b[0m\u001b[0;34m.\u001b[0m\u001b[0m_invalidy\u001b[0m \u001b[0;32mor\u001b[0m \u001b[0mself\u001b[0m\u001b[0;34m.\u001b[0m\u001b[0m_invalidx\u001b[0m\u001b[0;34m:\u001b[0m\u001b[0;34m\u001b[0m\u001b[0;34m\u001b[0m\u001b[0m\n\u001b[0;32m-> 1027\u001b[0;31m             \u001b[0mself\u001b[0m\u001b[0;34m.\u001b[0m\u001b[0mrecache\u001b[0m\u001b[0;34m(\u001b[0m\u001b[0;34m)\u001b[0m\u001b[0;34m\u001b[0m\u001b[0;34m\u001b[0m\u001b[0m\n\u001b[0m\u001b[1;32m   1028\u001b[0m         \u001b[0;32mreturn\u001b[0m \u001b[0mself\u001b[0m\u001b[0;34m.\u001b[0m\u001b[0m_path\u001b[0m\u001b[0;34m\u001b[0m\u001b[0;34m\u001b[0m\u001b[0m\n\u001b[1;32m   1029\u001b[0m \u001b[0;34m\u001b[0m\u001b[0m\n",
      "\u001b[0;32m/opt/anaconda3/lib/python3.7/site-packages/matplotlib/lines.py\u001b[0m in \u001b[0;36mrecache\u001b[0;34m(self, always)\u001b[0m\n\u001b[1;32m    672\u001b[0m             \u001b[0mx\u001b[0m \u001b[0;34m=\u001b[0m \u001b[0mself\u001b[0m\u001b[0;34m.\u001b[0m\u001b[0m_x\u001b[0m\u001b[0;34m\u001b[0m\u001b[0;34m\u001b[0m\u001b[0m\n\u001b[1;32m    673\u001b[0m         \u001b[0;32mif\u001b[0m \u001b[0malways\u001b[0m \u001b[0;32mor\u001b[0m \u001b[0mself\u001b[0m\u001b[0;34m.\u001b[0m\u001b[0m_invalidy\u001b[0m\u001b[0;34m:\u001b[0m\u001b[0;34m\u001b[0m\u001b[0;34m\u001b[0m\u001b[0m\n\u001b[0;32m--> 674\u001b[0;31m             \u001b[0myconv\u001b[0m \u001b[0;34m=\u001b[0m \u001b[0mself\u001b[0m\u001b[0;34m.\u001b[0m\u001b[0mconvert_yunits\u001b[0m\u001b[0;34m(\u001b[0m\u001b[0mself\u001b[0m\u001b[0;34m.\u001b[0m\u001b[0m_yorig\u001b[0m\u001b[0;34m)\u001b[0m\u001b[0;34m\u001b[0m\u001b[0;34m\u001b[0m\u001b[0m\n\u001b[0m\u001b[1;32m    675\u001b[0m             \u001b[0my\u001b[0m \u001b[0;34m=\u001b[0m \u001b[0m_to_unmasked_float_array\u001b[0m\u001b[0;34m(\u001b[0m\u001b[0myconv\u001b[0m\u001b[0;34m)\u001b[0m\u001b[0;34m.\u001b[0m\u001b[0mravel\u001b[0m\u001b[0;34m(\u001b[0m\u001b[0;34m)\u001b[0m\u001b[0;34m\u001b[0m\u001b[0;34m\u001b[0m\u001b[0m\n\u001b[1;32m    676\u001b[0m         \u001b[0;32melse\u001b[0m\u001b[0;34m:\u001b[0m\u001b[0;34m\u001b[0m\u001b[0;34m\u001b[0m\u001b[0m\n",
      "\u001b[0;32m/opt/anaconda3/lib/python3.7/site-packages/matplotlib/artist.py\u001b[0m in \u001b[0;36mconvert_yunits\u001b[0;34m(self, y)\u001b[0m\n\u001b[1;32m    190\u001b[0m         \u001b[0;32mif\u001b[0m \u001b[0max\u001b[0m \u001b[0;32mis\u001b[0m \u001b[0;32mNone\u001b[0m \u001b[0;32mor\u001b[0m \u001b[0max\u001b[0m\u001b[0;34m.\u001b[0m\u001b[0myaxis\u001b[0m \u001b[0;32mis\u001b[0m \u001b[0;32mNone\u001b[0m\u001b[0;34m:\u001b[0m\u001b[0;34m\u001b[0m\u001b[0;34m\u001b[0m\u001b[0m\n\u001b[1;32m    191\u001b[0m             \u001b[0;32mreturn\u001b[0m \u001b[0my\u001b[0m\u001b[0;34m\u001b[0m\u001b[0;34m\u001b[0m\u001b[0m\n\u001b[0;32m--> 192\u001b[0;31m         \u001b[0;32mreturn\u001b[0m \u001b[0max\u001b[0m\u001b[0;34m.\u001b[0m\u001b[0myaxis\u001b[0m\u001b[0;34m.\u001b[0m\u001b[0mconvert_units\u001b[0m\u001b[0;34m(\u001b[0m\u001b[0my\u001b[0m\u001b[0;34m)\u001b[0m\u001b[0;34m\u001b[0m\u001b[0;34m\u001b[0m\u001b[0m\n\u001b[0m\u001b[1;32m    193\u001b[0m \u001b[0;34m\u001b[0m\u001b[0m\n\u001b[1;32m    194\u001b[0m     \u001b[0;34m@\u001b[0m\u001b[0mproperty\u001b[0m\u001b[0;34m\u001b[0m\u001b[0;34m\u001b[0m\u001b[0m\n",
      "\u001b[0;32m/opt/anaconda3/lib/python3.7/site-packages/matplotlib/axis.py\u001b[0m in \u001b[0;36mconvert_units\u001b[0;34m(self, x)\u001b[0m\n\u001b[1;32m   1551\u001b[0m         \u001b[0;32mexcept\u001b[0m \u001b[0mException\u001b[0m \u001b[0;32mas\u001b[0m \u001b[0me\u001b[0m\u001b[0;34m:\u001b[0m\u001b[0;34m\u001b[0m\u001b[0;34m\u001b[0m\u001b[0m\n\u001b[1;32m   1552\u001b[0m             raise munits.ConversionError('Failed to convert value(s) to axis '\n\u001b[0;32m-> 1553\u001b[0;31m                                          f'units: {x!r}') from e\n\u001b[0m\u001b[1;32m   1554\u001b[0m         \u001b[0;32mreturn\u001b[0m \u001b[0mret\u001b[0m\u001b[0;34m\u001b[0m\u001b[0;34m\u001b[0m\u001b[0m\n\u001b[1;32m   1555\u001b[0m \u001b[0;34m\u001b[0m\u001b[0m\n",
      "\u001b[0;31mConversionError\u001b[0m: Failed to convert value(s) to axis units: array([           Ranking    Rank  Year\nUniversity                      \nMSU             QS   108.0  2017\nSSAU            QS  1001.0  2017\nMSTU            QS   306.0  2017\nHSE             QS   415.0  2017\nMEPHI           QS   402.0  2017\nMGIMO           QS   350.0  2017\nRUDN            QS   528.0  2017\nMISIS           QS   530.0  2017\nREU             QS   954.0  2017\nSPBU            QS   258.0  2017\nITMO            QS   517.0  2017\nSPPU            QS   402.0  2017\nVSU             QS  1001.0  2017\nTSU             QS   377.0  2017\nTSPU            QS   400.0  2017\nNSU             QS   291.0  2017\nNSTU            QS  1001.0  2017\nSASU            QS  1001.0  2017\nKFU             QS   446.0  2017\nLOBU            QS  1001.0  2017\nURFU            QS  1001.0  2017\nDVFU            QS  1001.0  2017\nSUSU            QS  1001.0  2017\nSSU             QS  1001.0  2017\nBASHSU          QS  1001.0  2017\nBELGU           QS  1001.0  2017\nGUBKIN          QS  1001.0  2017\nMIREA           QS  1001.0  2017\nMAI             QS  1001.0  2017\nMPEI            QS  1001.0  2017\nPPU             QS  1001.0  2017\nPSU             QS  1001.0  2017\nPMU             QS  1001.0  2017\nSECH            QS  1001.0  2017\nSFU             QS  1001.0  2017\nLETI            QS  1001.0  2017\nUGATU           QS  1001.0  2017\nVOLGTU          QS  1001.0  2017\nSKOLKOVO        QS  1001.0  2017,\n                  Ranking    Rank  Year\nUniversity                      \nMSU             QS    95.0  2018\nMIPT            QS   355.0  2018\nSSAU            QS  1001.0  2018\nMSTU            QS   291.0  2018\nHSE             QS   415.0  2018\nMEPHI           QS   402.0  2018\nMGIMO           QS   373.0  2018\nRUDN            QS   528.0  2018\nMISIS           QS   530.0  2018\nREU             QS   954.0  2018\nSPBU            QS   240.0  2018\nITMO            QS   517.0  2018\nSPPU            QS   402.0  2018\nVSU             QS  1001.0  2018\nTSU             QS   323.0  2018\nTSPU            QS   386.0  2018\nNSU             QS   250.0  2018\nNSTU            QS  1001.0  2018\nSASU            QS  1001.0  2018\nKFU             QS   446.0  2018\nLOBU            QS  1001.0  2018\nURFU            QS  1001.0  2018\nDVFU            QS  1001.0  2018\nSUSU            QS  1001.0  2018\nSSU             QS  1001.0  2018\nBASHSU          QS  1001.0  2018\nBELGU           QS  1001.0  2018\nGUBKIN          QS  1001.0  2018\nMIREA           QS  1001.0  2018\nMAI             QS  1001.0  2018\nMPEI            QS  1001.0  2018\nPPU             QS  1001.0  2018\nPSU             QS  1001.0  2018\nPMU             QS  1001.0  2018\nSECH            QS  1001.0  2018\nSFU             QS  1001.0  2018\nLETI            QS  1001.0  2018\nUGATU           QS  1001.0  2018\nVOLGTU          QS  1001.0  2018\nSKOLKOVO        QS  1001.0  2018,\n                  Ranking    Rank  Year\nUniversity                      \nMSU             QS    90.0  2019\nMIPT            QS   312.0  2019\nSSAU            QS  1001.0  2019\nMSTU            QS   299.0  2019\nHSE             QS   415.0  2019\nMEPHI           QS   402.0  2019\nMGIMO           QS   355.0  2019\nRUDN            QS   528.0  2019\nMISIS           QS   530.0  2019\nREU             QS   954.0  2019\nSPBU            QS   235.0  2019\nITMO            QS   517.0  2019\nSPPU            QS   402.0  2019\nVSU             QS  1001.0  2019\nTSU             QS   277.0  2019\nTSPU            QS   373.0  2019\nNSU             QS   244.0  2019\nNSTU            QS  1001.0  2019\nSASU            QS  1001.0  2019\nKFU             QS   446.0  2019\nLOBU            QS  1001.0  2019\nURFU            QS  1001.0  2019\nDVFU            QS  1001.0  2019\nSUSU            QS  1001.0  2019\nSSU             QS  1001.0  2019\nBASHSU          QS  1001.0  2019\nBELGU           QS  1001.0  2019\nGUBKIN          QS  1001.0  2019\nMIREA           QS  1001.0  2019\nMAI             QS  1001.0  2019\nMPEI            QS  1001.0  2019\nPPU             QS  1001.0  2019\nPSU             QS  1001.0  2019\nPMU             QS  1001.0  2019\nSECH            QS  1001.0  2019\nSFU             QS  1001.0  2019\nLETI            QS  1001.0  2019\nUGATU           QS  1001.0  2019\nVOLGTU          QS  1001.0  2019\nSKOLKOVO        QS  1001.0  2019,\n                  Ranking    Rank  Year\nUniversity                      \nMSU            THE   189.0  2020\nMIPT           THE   242.0  2020\nSSAU           THE  1001.0  2020\nMSTU           THE   983.0  2020\nHSE            THE   415.0  2020\n...            ...     ...   ...\nSFU           ARWU  1001.0  2020\nLETI          ARWU  1001.0  2020\nUGATU         ARWU  1001.0  2020\nVOLGTU        ARWU  1001.0  2020\nSKOLKOVO      ARWU  1001.0  2020\n\n[136 rows x 3 columns]], dtype=object)"
     ]
    },
    {
     "data": {
      "image/png": "[encoded data removed]",
      "text/plain": [
       "<Figure size 432x288 with 1 Axes>"
      ]
     },
     "metadata": {
      "needs_background": "light"
     },
     "output_type": "display_data"
    }
   ],
   "source": [
    "data_ts = pd.read_excel('Data/Russian_Universities_TS.xlsx', index_col = 0, parse_dates = True)\n",
    "data_ts.dropna(inplace = True)\n",
    "# data_ts.head()\n",
    "\n",
    "# plt.plot(data_ts.Year.unique(), data_ts.Rank)\n",
    "# data_ts.plot()\n",
    "# plt.show()\n",
    "plt.plot(data_ts.groupby('Year'))"
   ]
  },
  {
   "cell_type": "code",
   "execution_count": null,
   "metadata": {},
   "outputs": [],
   "source": []
  }
 ],
 "metadata": {
  "kernelspec": {
   "display_name": "Python 3",
   "language": "python",
   "name": "python3"
  },
  "language_info": {
   "codemirror_mode": {
    "name": "ipython",
    "version": 3
   },
   "file_extension": ".py",
   "mimetype": "text/x-python",
   "name": "python",
   "nbconvert_exporter": "python",
   "pygments_lexer": "ipython3",
   "version": "3.7.6"
  }
 },
 "nbformat": 4,
 "nbformat_minor": 2
}
